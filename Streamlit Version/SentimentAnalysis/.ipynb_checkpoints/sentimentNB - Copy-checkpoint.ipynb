{
 "cells": [
  {
   "cell_type": "code",
   "execution_count": null,
   "metadata": {},
   "outputs": [],
   "source": [
    "# import the libraries\n",
    "import numpy as np\n",
    "import pandas as pd\n",
    "import re\n",
    "import matplotlib.pyplot as plt\n",
    "from textblob import TextBlob"
   ]
  },
  {
   "cell_type": "code",
   "execution_count": null,
   "metadata": {},
   "outputs": [],
   "source": [
    "# import the data\n",
    "df_path = \"News_Category_Dataset.csv\"\n",
    "df = pd.read_csv(df_path)\n",
    "\n",
    "df.head(10)"
   ]
  },
  {
   "cell_type": "code",
   "execution_count": null,
   "metadata": {},
   "outputs": [],
   "source": [
    "# # remove nan value row in hastags column\n",
    "# df. dropna(subset = [\"hashtags\"], inplace=True)\n",
    "# df.head(5)"
   ]
  },
  {
   "cell_type": "code",
   "execution_count": null,
   "metadata": {},
   "outputs": [],
   "source": [
    "# # total value size\n",
    "# print(\"Tweet Size: \", len(df))"
   ]
  },
  {
   "cell_type": "code",
   "execution_count": null,
   "metadata": {},
   "outputs": [],
   "source": [
    "# get only texts\n",
    "date_df = df[['date']]\n",
    "df = df[['short_descripti','date']]\n",
    "df.columns = ['tweets', 'date']"
   ]
  },
  {
   "cell_type": "code",
   "execution_count": null,
   "metadata": {},
   "outputs": [],
   "source": [
    "# create a function to clean the tweets\n",
    "def cleanTwt(twt):\n",
    "  twt = re.sub(\"#bitcoin\", 'bitcoin', twt) # removes the '#' from bitcoin\n",
    "  twt = re.sub(\"#Bitcoin\", 'Bitcoin', twt) # removes the '#' from Bitcoin\n",
    "  twt = re.sub('#[A-Za-z0-9]+', '', twt) # removes any string with a '#'\n",
    "  twt = re.sub('\\\\n', '', twt) # removes the '\\n' string\n",
    "  twt = re.sub('https:\\/\\/\\S+', '', twt) # removes any hyperlinks\n",
    "  return twt"
   ]
  },
  {
   "cell_type": "code",
   "execution_count": null,
   "metadata": {},
   "outputs": [],
   "source": [
    "df['cleaned_tweets'] = df['tweets'].apply(cleanTwt)\n",
    "df"
   ]
  },
  {
   "cell_type": "code",
   "execution_count": null,
   "metadata": {},
   "outputs": [],
   "source": [
    "# create a function to get subjectivity\n",
    "def getSubjectivity(twt):\n",
    "  return TextBlob(twt).sentiment.subjectivity\n",
    "\n",
    "# create a function to get the polarity\n",
    "def getPolarity(twt):\n",
    "  return TextBlob(twt).sentiment.polarity\n",
    "\n",
    "# create two new columns called \"Subjectivity\" & \"Polarity\"\n",
    "df['subjectivity'] = df['cleaned_tweets'].apply(getSubjectivity)\n",
    "df['polarity'] = df['cleaned_tweets'].apply(getPolarity)"
   ]
  },
  {
   "cell_type": "code",
   "execution_count": null,
   "metadata": {},
   "outputs": [],
   "source": [
    "df.head(5)"
   ]
  },
  {
   "cell_type": "code",
   "execution_count": null,
   "metadata": {},
   "outputs": [],
   "source": [
    "# create a function get the sentiment text\n",
    "def getSentiment(score):\n",
    "  if score < 0:\n",
    "    return \"negative\"\n",
    "  elif score == 0:\n",
    "    return \"neutral\"\n",
    "  else:\n",
    "    return \"positive\""
   ]
  },
  {
   "cell_type": "code",
   "execution_count": null,
   "metadata": {},
   "outputs": [],
   "source": [
    "# create a column to store the text sentiment\n",
    "df['sentiment'] = df['polarity'].apply(getSentiment)\n",
    "\n",
    "# show the data\n",
    "df.head()"
   ]
  },
  {
   "cell_type": "code",
   "execution_count": null,
   "metadata": {},
   "outputs": [],
   "source": [
    "# create a scatter plot to show the subjectivity and the polarity\n",
    "plt.figure(figsize=(14,10))\n",
    "\n",
    "for i in range(0, 2000):\n",
    "  plt.scatter(df[\"polarity\"].iloc[[i]].values[0], df[\"subjectivity\"].iloc[[i]].values[0], color=\"Purple\")\n",
    "\n",
    "plt.title(\"Sentiment Analysis Scatter Plot\")\n",
    "plt.xlabel('polarity')\n",
    "plt.ylabel('subjectivity')\n",
    "plt.show()"
   ]
  },
  {
   "cell_type": "code",
   "execution_count": null,
   "metadata": {},
   "outputs": [],
   "source": [
    "# create a bar chart to show the cout of Positive, Neutral and Nehative sentiments\n",
    "df['sentiment'].value_counts().plot(kind=\"bar\")\n",
    "plt.title(\"Sentiment Analysis Scatter Plot\")\n",
    "plt.xlabel(\"Polarity\")\n",
    "plt.ylabel(\"Subjectivity\")\n",
    "plt.show()"
   ]
  },
  {
   "cell_type": "code",
   "execution_count": null,
   "metadata": {},
   "outputs": [],
   "source": [
    "NewDf = df\n"
   ]
  },
  {
   "cell_type": "code",
   "execution_count": null,
   "metadata": {},
   "outputs": [],
   "source": [
    "NewDf['dates'] = pd.to_datetime(NewDf['date']).dt.date\n",
    "NewDf.head()\n",
    "NewDf.shape"
   ]
  },
  {
   "cell_type": "code",
   "execution_count": null,
   "metadata": {},
   "outputs": [],
   "source": [
    "NewDf = NewDf[['polarity', 'dates']]\n",
    "NewDf.shape\n"
   ]
  },
  {
   "cell_type": "code",
   "execution_count": null,
   "metadata": {},
   "outputs": [],
   "source": [
    "NewDf.head()"
   ]
  },
  {
   "cell_type": "code",
   "execution_count": null,
   "metadata": {},
   "outputs": [],
   "source": [
    "pd.set_option('display.max_rows', 500)"
   ]
  },
  {
   "cell_type": "code",
   "execution_count": null,
   "metadata": {},
   "outputs": [],
   "source": [
    "NewDf.to_csv('test.csv')"
   ]
  },
  {
   "cell_type": "code",
   "execution_count": null,
   "metadata": {},
   "outputs": [],
   "source": [
    "# Convert 'dates' column to datetime format\n",
    "# NewDf['dates'] = pd.to_datetime(NewDf['dates'])\n",
    "\n",
    "# Group the DataFrame by 'dates' and calculate the mean polarity for each date\n",
    "average_df = NewDf.groupby('dates')['polarity'].mean().reset_index()\n",
    "\n",
    "# Print the average DataFrame\n",
    "average_df.shape"
   ]
  },
  {
   "cell_type": "code",
   "execution_count": null,
   "metadata": {},
   "outputs": [],
   "source": [
    "# Group by date and calculate the mean polarity\n",
    "average_df = NewDf.groupby('dates')['polarity'].mean().reset_index()\n",
    "\n",
    "# Print the new DataFrame\n",
    "average_df.shape"
   ]
  },
  {
   "cell_type": "code",
   "execution_count": null,
   "metadata": {},
   "outputs": [],
   "source": [
    "sorted_df = average_df.sort_values('dates')\n",
    "sorted_df.head()"
   ]
  },
  {
   "cell_type": "code",
   "execution_count": null,
   "metadata": {},
   "outputs": [],
   "source": [
    "sorted_df.tail()"
   ]
  },
  {
   "cell_type": "code",
   "execution_count": null,
   "metadata": {},
   "outputs": [],
   "source": [
    "sorted_df"
   ]
  },
  {
   "cell_type": "code",
   "execution_count": null,
   "metadata": {},
   "outputs": [],
   "source": [
    "sorted_df.shape"
   ]
  },
  {
   "cell_type": "code",
   "execution_count": null,
   "metadata": {},
   "outputs": [],
   "source": []
  }
 ],
 "metadata": {
  "kernelspec": {
   "display_name": "Python 3 (ipykernel)",
   "language": "python",
   "name": "python3"
  },
  "language_info": {
   "codemirror_mode": {
    "name": "ipython",
    "version": 3
   },
   "file_extension": ".py",
   "mimetype": "text/x-python",
   "name": "python",
   "nbconvert_exporter": "python",
   "pygments_lexer": "ipython3",
   "version": "3.9.12"
  }
 },
 "nbformat": 4,
 "nbformat_minor": 2
}
